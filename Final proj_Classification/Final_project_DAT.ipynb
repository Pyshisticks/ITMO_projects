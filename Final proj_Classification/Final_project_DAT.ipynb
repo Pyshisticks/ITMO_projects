{
  "nbformat": 4,
  "nbformat_minor": 0,
  "metadata": {
    "colab": {
      "provenance": [],
      "collapsed_sections": [
        "P2BWbCXKzami",
        "oO3trxYxJdlW",
        "1DT8jirKhoKo"
      ]
    },
    "kernelspec": {
      "name": "python3",
      "display_name": "Python 3"
    },
    "language_info": {
      "name": "python"
    }
  },
  "cells": [
    {
      "cell_type": "markdown",
      "source": [
        "# Описание набора данных\n",
        "\n",
        "Данные содержат информацию об **астрофизических обьектах**, которые претендуют на звание пульсаров. Данные о кандидатах были получены по наблюдениям в Южном полушарии путем обзора с высоким временным разрешением. **Пульсары**  - это вращающиеся нейтронные звёзды с магнитным полем, которое наклонено к оси вращения, они являются источником радиоизлучений, пульсирующих на постоянной частоте.\n",
        "\n",
        "Данные описываются **9** признаками, из которых 8 непрерывных величин и одна переменная, описывающая принадлежность к классу (0 или 1). Первые четыре предиктора представляют собой статистические данные, полученные из **интегрированного профиля импульса объекта**, они описывают версию сигнала с разрешением по долготе, который был усреднен по времени и по частоте. \n",
        "\n",
        "**Интегрированный профиль импульса**: Каждый пульсар создает уникальную картину импульсного излучения, известную как его профиль импульса. Это как отпечаток пальца пульсара. Пульсары можно идентифицировать по их импульсному профилю. Но профиль импульса незначительно меняется в со временем. Это затрудняет обнаружение пульсара. Это происходит потому, что их сигналы неоднородны и не совсем стабильны в течение долгого времени. Однако эти профили становятся стабильными при усреднении за многие тысячи оборотов.\n",
        "\n",
        "Оставшиеся четыре переменные - это аналогично полученные из **DM-SNR кривой** статистические характеристики. (**DM** (Dispersion Measure) - **мера дисперсии**, т.е. плотность столба свободных электронов между наблюдателем и пульсаром, интегрированная вдоль луча зрения. Степень рассеяния сигнала неизвестного пульсара не может быть известна априори, поэтому для определения этого значения необходимо провести несколько тестов измерения дисперсии. **SNR** (Signal-to-Noise Ratio) - **отношение сигнал-шум**).\n",
        "\n",
        "**Кривая DM-SNR**: Радиоволны, испускаемые пульсарами, достигают земли после прохождения больших расстояний в космосе, заполненном свободными электронами. Поскольку радиоволны являются электромагнитными по своей природе, они взаимодействуют с этими электронами, это взаимодействие приводит к замедлению волны. Важным моментом является то, что пульсары излучают широкий диапазон частот, и величина, на которую электроны замедляют волну, зависит от частоты. Волны с более высокой частотой замедляются меньше по сравнению с волнами более высокой частоты. т.е. более низкие частоты достигают телескопа позже, чем более высокие частоты. Это и называется дисперсией.\n",
        "\n",
        "Краткое описание признаков:\n",
        "\n",
        "Признак  | Описание\n",
        "-------------------|--------------------\n",
        "MIP | **Mean** of the integrated profile - среднее значение интегр. профиля\n",
        "STDIP | **Standard deviation** of the integrated profile - стандартное отклонение интегр. профиля\n",
        "EKIP | **Excess kurtosis** of the integrated profile - эксцесс интегр. профиля\n",
        "SIP | **Skewness** of the integrated profile - скошенность, ассиметрия интегр. профиля\n",
        "MC | **Mean** of the DM-SNR curve - среднее значение DM-SNR кривой\n",
        "STDC | **Standard deviation** of the DM-SNR curve - стандартное отклонение DM-SNR кривой\n",
        "EKC | **Excess kurtosis** of the DM-SNR curve - эксцесс DM-SNR кривой\n",
        "SC | **Skewness** of the DM-SNR curve - скошенность, ассиметрия DM-SNR кривой\n",
        "TG | **Target Column (Class)** - принадлежность к классу пульсаров (0 - не принадлежит, 1 - принадлежит)\n",
        "\n",
        "Эксцесс и скошенность как статистические характеристики строятся на основе четвертого и третьего центральных моментов распределения соответственно."
      ],
      "metadata": {
        "id": "l3VaYY4sjhD1"
      }
    },
    {
      "cell_type": "markdown",
      "source": [
        "# Загрузка и предварительная обработка \n",
        "\n",
        "Импортируем необходимые библиотеки для анализа и визуализации данных"
      ],
      "metadata": {
        "id": "P2BWbCXKzami"
      }
    },
    {
      "cell_type": "code",
      "source": [
        "import pandas as pd\n",
        "import numpy as np\n",
        "\n",
        "import matplotlib\n",
        "import matplotlib.pyplot as plt\n",
        "import seaborn as sns\n",
        "\n",
        "from sklearn.preprocessing import scale\n",
        "from sklearn.model_selection import train_test_split\n",
        "from sklearn.tree import DecisionTreeClassifier\n",
        "from sklearn.model_selection import cross_val_score\n",
        "from sklearn.model_selection import GridSearchCV\n",
        "from sklearn.ensemble import BaggingClassifier\n",
        "from sklearn import metrics\n",
        "from sklearn.metrics import confusion_matrix, accuracy_score, recall_score, f1_score\n",
        "from sklearn.metrics import classification_report\n",
        "from sklearn.metrics import confusion_matrix\n",
        "from sklearn.metrics import RocCurveDisplay\n",
        "from sklearn.metrics import roc_auc_score\n",
        "from prettytable import PrettyTable"
      ],
      "metadata": {
        "id": "jzInSCeOzyNE"
      },
      "execution_count": null,
      "outputs": []
    },
    {
      "cell_type": "markdown",
      "source": [
        "Подключаем Google-диск и переходим в директорию с нужным нам csv-файлом"
      ],
      "metadata": {
        "id": "QrgczXKG04yh"
      }
    },
    {
      "cell_type": "code",
      "source": [
        "%cd /content/drive/MyDrive/Colab Notebooks/Data Analysis"
      ],
      "metadata": {
        "colab": {
          "base_uri": "https://localhost:8080/"
        },
        "id": "QNsMxWEG03yL",
        "outputId": "d051256f-7116-4ebe-e8c5-8d30bb3894fa"
      },
      "execution_count": null,
      "outputs": [
        {
          "output_type": "stream",
          "name": "stdout",
          "text": [
            "/content/drive/MyDrive/Colab Notebooks/Data Analysis\n"
          ]
        }
      ]
    },
    {
      "cell_type": "markdown",
      "source": [
        "Загружаем данные в датафрейм"
      ],
      "metadata": {
        "id": "FftvR8RC0VZv"
      }
    },
    {
      "cell_type": "code",
      "source": [
        "puls_cand = pd.read_csv(\"pulsar_stars_new.csv\", delimiter = \",\", decimal = \".\")\n",
        "puls_cand.head()"
      ],
      "metadata": {
        "colab": {
          "base_uri": "https://localhost:8080/",
          "height": 206
        },
        "id": "D-VHnsIyl5zN",
        "outputId": "ed9a8e92-6221-4456-993c-e0667ba40130"
      },
      "execution_count": null,
      "outputs": [
        {
          "output_type": "execute_result",
          "data": {
            "text/plain": [
              "          MIP      STDIP      EKIP       SIP        MC       STDC        EKC  \\\n",
              "0  140.562500  55.683782 -0.234571 -0.699648  3.199833  19.110426   7.975532   \n",
              "1  102.507812  58.882430  0.465318 -0.515088  1.677258  14.860146  10.576487   \n",
              "2  103.015625  39.341649  0.323328  1.051164  3.121237  21.744669   7.735822   \n",
              "3  136.750000  57.178449 -0.068415 -0.636238  3.642977  20.959280   6.896499   \n",
              "4   88.726562  40.672225  0.600866  1.123492  1.178930  11.468720  14.269573   \n",
              "\n",
              "           SC  TG  \n",
              "0   74.242225   0  \n",
              "1  127.393580   0  \n",
              "2   63.171909   0  \n",
              "3   53.593661   0  \n",
              "4  252.567306   0  "
            ],
            "text/html": [
              "\n",
              "  <div id=\"df-71c48681-6031-4a6c-bf58-d8d5b902aeac\">\n",
              "    <div class=\"colab-df-container\">\n",
              "      <div>\n",
              "<style scoped>\n",
              "    .dataframe tbody tr th:only-of-type {\n",
              "        vertical-align: middle;\n",
              "    }\n",
              "\n",
              "    .dataframe tbody tr th {\n",
              "        vertical-align: top;\n",
              "    }\n",
              "\n",
              "    .dataframe thead th {\n",
              "        text-align: right;\n",
              "    }\n",
              "</style>\n",
              "<table border=\"1\" class=\"dataframe\">\n",
              "  <thead>\n",
              "    <tr style=\"text-align: right;\">\n",
              "      <th></th>\n",
              "      <th>MIP</th>\n",
              "      <th>STDIP</th>\n",
              "      <th>EKIP</th>\n",
              "      <th>SIP</th>\n",
              "      <th>MC</th>\n",
              "      <th>STDC</th>\n",
              "      <th>EKC</th>\n",
              "      <th>SC</th>\n",
              "      <th>TG</th>\n",
              "    </tr>\n",
              "  </thead>\n",
              "  <tbody>\n",
              "    <tr>\n",
              "      <th>0</th>\n",
              "      <td>140.562500</td>\n",
              "      <td>55.683782</td>\n",
              "      <td>-0.234571</td>\n",
              "      <td>-0.699648</td>\n",
              "      <td>3.199833</td>\n",
              "      <td>19.110426</td>\n",
              "      <td>7.975532</td>\n",
              "      <td>74.242225</td>\n",
              "      <td>0</td>\n",
              "    </tr>\n",
              "    <tr>\n",
              "      <th>1</th>\n",
              "      <td>102.507812</td>\n",
              "      <td>58.882430</td>\n",
              "      <td>0.465318</td>\n",
              "      <td>-0.515088</td>\n",
              "      <td>1.677258</td>\n",
              "      <td>14.860146</td>\n",
              "      <td>10.576487</td>\n",
              "      <td>127.393580</td>\n",
              "      <td>0</td>\n",
              "    </tr>\n",
              "    <tr>\n",
              "      <th>2</th>\n",
              "      <td>103.015625</td>\n",
              "      <td>39.341649</td>\n",
              "      <td>0.323328</td>\n",
              "      <td>1.051164</td>\n",
              "      <td>3.121237</td>\n",
              "      <td>21.744669</td>\n",
              "      <td>7.735822</td>\n",
              "      <td>63.171909</td>\n",
              "      <td>0</td>\n",
              "    </tr>\n",
              "    <tr>\n",
              "      <th>3</th>\n",
              "      <td>136.750000</td>\n",
              "      <td>57.178449</td>\n",
              "      <td>-0.068415</td>\n",
              "      <td>-0.636238</td>\n",
              "      <td>3.642977</td>\n",
              "      <td>20.959280</td>\n",
              "      <td>6.896499</td>\n",
              "      <td>53.593661</td>\n",
              "      <td>0</td>\n",
              "    </tr>\n",
              "    <tr>\n",
              "      <th>4</th>\n",
              "      <td>88.726562</td>\n",
              "      <td>40.672225</td>\n",
              "      <td>0.600866</td>\n",
              "      <td>1.123492</td>\n",
              "      <td>1.178930</td>\n",
              "      <td>11.468720</td>\n",
              "      <td>14.269573</td>\n",
              "      <td>252.567306</td>\n",
              "      <td>0</td>\n",
              "    </tr>\n",
              "  </tbody>\n",
              "</table>\n",
              "</div>\n",
              "      <button class=\"colab-df-convert\" onclick=\"convertToInteractive('df-71c48681-6031-4a6c-bf58-d8d5b902aeac')\"\n",
              "              title=\"Convert this dataframe to an interactive table.\"\n",
              "              style=\"display:none;\">\n",
              "        \n",
              "  <svg xmlns=\"http://www.w3.org/2000/svg\" height=\"24px\"viewBox=\"0 0 24 24\"\n",
              "       width=\"24px\">\n",
              "    <path d=\"M0 0h24v24H0V0z\" fill=\"none\"/>\n",
              "    <path d=\"M18.56 5.44l.94 2.06.94-2.06 2.06-.94-2.06-.94-.94-2.06-.94 2.06-2.06.94zm-11 1L8.5 8.5l.94-2.06 2.06-.94-2.06-.94L8.5 2.5l-.94 2.06-2.06.94zm10 10l.94 2.06.94-2.06 2.06-.94-2.06-.94-.94-2.06-.94 2.06-2.06.94z\"/><path d=\"M17.41 7.96l-1.37-1.37c-.4-.4-.92-.59-1.43-.59-.52 0-1.04.2-1.43.59L10.3 9.45l-7.72 7.72c-.78.78-.78 2.05 0 2.83L4 21.41c.39.39.9.59 1.41.59.51 0 1.02-.2 1.41-.59l7.78-7.78 2.81-2.81c.8-.78.8-2.07 0-2.86zM5.41 20L4 18.59l7.72-7.72 1.47 1.35L5.41 20z\"/>\n",
              "  </svg>\n",
              "      </button>\n",
              "      \n",
              "  <style>\n",
              "    .colab-df-container {\n",
              "      display:flex;\n",
              "      flex-wrap:wrap;\n",
              "      gap: 12px;\n",
              "    }\n",
              "\n",
              "    .colab-df-convert {\n",
              "      background-color: #E8F0FE;\n",
              "      border: none;\n",
              "      border-radius: 50%;\n",
              "      cursor: pointer;\n",
              "      display: none;\n",
              "      fill: #1967D2;\n",
              "      height: 32px;\n",
              "      padding: 0 0 0 0;\n",
              "      width: 32px;\n",
              "    }\n",
              "\n",
              "    .colab-df-convert:hover {\n",
              "      background-color: #E2EBFA;\n",
              "      box-shadow: 0px 1px 2px rgba(60, 64, 67, 0.3), 0px 1px 3px 1px rgba(60, 64, 67, 0.15);\n",
              "      fill: #174EA6;\n",
              "    }\n",
              "\n",
              "    [theme=dark] .colab-df-convert {\n",
              "      background-color: #3B4455;\n",
              "      fill: #D2E3FC;\n",
              "    }\n",
              "\n",
              "    [theme=dark] .colab-df-convert:hover {\n",
              "      background-color: #434B5C;\n",
              "      box-shadow: 0px 1px 3px 1px rgba(0, 0, 0, 0.15);\n",
              "      filter: drop-shadow(0px 1px 2px rgba(0, 0, 0, 0.3));\n",
              "      fill: #FFFFFF;\n",
              "    }\n",
              "  </style>\n",
              "\n",
              "      <script>\n",
              "        const buttonEl =\n",
              "          document.querySelector('#df-71c48681-6031-4a6c-bf58-d8d5b902aeac button.colab-df-convert');\n",
              "        buttonEl.style.display =\n",
              "          google.colab.kernel.accessAllowed ? 'block' : 'none';\n",
              "\n",
              "        async function convertToInteractive(key) {\n",
              "          const element = document.querySelector('#df-71c48681-6031-4a6c-bf58-d8d5b902aeac');\n",
              "          const dataTable =\n",
              "            await google.colab.kernel.invokeFunction('convertToInteractive',\n",
              "                                                     [key], {});\n",
              "          if (!dataTable) return;\n",
              "\n",
              "          const docLinkHtml = 'Like what you see? Visit the ' +\n",
              "            '<a target=\"_blank\" href=https://colab.research.google.com/notebooks/data_table.ipynb>data table notebook</a>'\n",
              "            + ' to learn more about interactive tables.';\n",
              "          element.innerHTML = '';\n",
              "          dataTable['output_type'] = 'display_data';\n",
              "          await google.colab.output.renderOutput(dataTable, element);\n",
              "          const docLink = document.createElement('div');\n",
              "          docLink.innerHTML = docLinkHtml;\n",
              "          element.appendChild(docLink);\n",
              "        }\n",
              "      </script>\n",
              "    </div>\n",
              "  </div>\n",
              "  "
            ]
          },
          "metadata": {},
          "execution_count": 3
        }
      ]
    },
    {
      "cell_type": "markdown",
      "source": [
        "Проверим датафрейм на наличие отсутствующих значений (NULL):"
      ],
      "metadata": {
        "id": "BoHNOE0X2L-y"
      }
    },
    {
      "cell_type": "code",
      "source": [
        "puls_cand.isna().sum()"
      ],
      "metadata": {
        "colab": {
          "base_uri": "https://localhost:8080/"
        },
        "id": "BaOc2Xlp2LlL",
        "outputId": "3ce4277e-b02d-4da7-fd87-52ac2f3f3cf4"
      },
      "execution_count": null,
      "outputs": [
        {
          "output_type": "execute_result",
          "data": {
            "text/plain": [
              "MIP      0\n",
              "STDIP    0\n",
              "EKIP     0\n",
              "SIP      0\n",
              "MC       0\n",
              "STDC     0\n",
              "EKC      0\n",
              "SC       0\n",
              "TG       0\n",
              "dtype: int64"
            ]
          },
          "metadata": {},
          "execution_count": 8
        }
      ]
    },
    {
      "cell_type": "markdown",
      "source": [
        "Как можно заметить, NULLов в данных не обнаружено, можно работать со всем спектром значений.\n",
        "\n",
        "Оценим основные статистики для предикторов, полученные на данном датасете:"
      ],
      "metadata": {
        "id": "fPNvx3VK2iti"
      }
    },
    {
      "cell_type": "code",
      "source": [
        "puls_cand.iloc[:,:-1].describe()"
      ],
      "metadata": {
        "colab": {
          "base_uri": "https://localhost:8080/",
          "height": 300
        },
        "id": "_rpBMyoG2ibz",
        "outputId": "8cf53de1-5cc5-43b1-9743-0c41413f34f8"
      },
      "execution_count": null,
      "outputs": [
        {
          "output_type": "execute_result",
          "data": {
            "text/plain": [
              "                MIP         STDIP          EKIP           SIP            MC  \\\n",
              "count  17898.000000  17898.000000  17898.000000  17898.000000  17898.000000   \n",
              "mean     111.079968     46.549532      0.477857      1.770279     12.614400   \n",
              "std       25.652935      6.843189      1.064040      6.167913     29.472897   \n",
              "min        5.812500     24.772042     -1.876011     -1.791886      0.213211   \n",
              "25%      100.929688     42.376018      0.027098     -0.188572      1.923077   \n",
              "50%      115.078125     46.947479      0.223240      0.198710      2.801839   \n",
              "75%      127.085938     51.023202      0.473325      0.927783      5.464256   \n",
              "max      192.617188     98.778911      8.069522     68.101622    223.392141   \n",
              "\n",
              "               STDC           EKC            SC  \n",
              "count  17898.000000  17898.000000  17898.000000  \n",
              "mean      26.326515      8.303556    104.857709  \n",
              "std       19.470572      4.506092    106.514540  \n",
              "min        7.370432     -3.139270     -1.976976  \n",
              "25%       14.437332      5.781506     34.960504  \n",
              "50%       18.461316      8.433515     83.064556  \n",
              "75%       28.428104     10.702959    139.309330  \n",
              "max      110.642211     34.539844   1191.000837  "
            ],
            "text/html": [
              "\n",
              "  <div id=\"df-1b3ee393-b7cb-4167-b48c-3c3ef46ce995\">\n",
              "    <div class=\"colab-df-container\">\n",
              "      <div>\n",
              "<style scoped>\n",
              "    .dataframe tbody tr th:only-of-type {\n",
              "        vertical-align: middle;\n",
              "    }\n",
              "\n",
              "    .dataframe tbody tr th {\n",
              "        vertical-align: top;\n",
              "    }\n",
              "\n",
              "    .dataframe thead th {\n",
              "        text-align: right;\n",
              "    }\n",
              "</style>\n",
              "<table border=\"1\" class=\"dataframe\">\n",
              "  <thead>\n",
              "    <tr style=\"text-align: right;\">\n",
              "      <th></th>\n",
              "      <th>MIP</th>\n",
              "      <th>STDIP</th>\n",
              "      <th>EKIP</th>\n",
              "      <th>SIP</th>\n",
              "      <th>MC</th>\n",
              "      <th>STDC</th>\n",
              "      <th>EKC</th>\n",
              "      <th>SC</th>\n",
              "    </tr>\n",
              "  </thead>\n",
              "  <tbody>\n",
              "    <tr>\n",
              "      <th>count</th>\n",
              "      <td>17898.000000</td>\n",
              "      <td>17898.000000</td>\n",
              "      <td>17898.000000</td>\n",
              "      <td>17898.000000</td>\n",
              "      <td>17898.000000</td>\n",
              "      <td>17898.000000</td>\n",
              "      <td>17898.000000</td>\n",
              "      <td>17898.000000</td>\n",
              "    </tr>\n",
              "    <tr>\n",
              "      <th>mean</th>\n",
              "      <td>111.079968</td>\n",
              "      <td>46.549532</td>\n",
              "      <td>0.477857</td>\n",
              "      <td>1.770279</td>\n",
              "      <td>12.614400</td>\n",
              "      <td>26.326515</td>\n",
              "      <td>8.303556</td>\n",
              "      <td>104.857709</td>\n",
              "    </tr>\n",
              "    <tr>\n",
              "      <th>std</th>\n",
              "      <td>25.652935</td>\n",
              "      <td>6.843189</td>\n",
              "      <td>1.064040</td>\n",
              "      <td>6.167913</td>\n",
              "      <td>29.472897</td>\n",
              "      <td>19.470572</td>\n",
              "      <td>4.506092</td>\n",
              "      <td>106.514540</td>\n",
              "    </tr>\n",
              "    <tr>\n",
              "      <th>min</th>\n",
              "      <td>5.812500</td>\n",
              "      <td>24.772042</td>\n",
              "      <td>-1.876011</td>\n",
              "      <td>-1.791886</td>\n",
              "      <td>0.213211</td>\n",
              "      <td>7.370432</td>\n",
              "      <td>-3.139270</td>\n",
              "      <td>-1.976976</td>\n",
              "    </tr>\n",
              "    <tr>\n",
              "      <th>25%</th>\n",
              "      <td>100.929688</td>\n",
              "      <td>42.376018</td>\n",
              "      <td>0.027098</td>\n",
              "      <td>-0.188572</td>\n",
              "      <td>1.923077</td>\n",
              "      <td>14.437332</td>\n",
              "      <td>5.781506</td>\n",
              "      <td>34.960504</td>\n",
              "    </tr>\n",
              "    <tr>\n",
              "      <th>50%</th>\n",
              "      <td>115.078125</td>\n",
              "      <td>46.947479</td>\n",
              "      <td>0.223240</td>\n",
              "      <td>0.198710</td>\n",
              "      <td>2.801839</td>\n",
              "      <td>18.461316</td>\n",
              "      <td>8.433515</td>\n",
              "      <td>83.064556</td>\n",
              "    </tr>\n",
              "    <tr>\n",
              "      <th>75%</th>\n",
              "      <td>127.085938</td>\n",
              "      <td>51.023202</td>\n",
              "      <td>0.473325</td>\n",
              "      <td>0.927783</td>\n",
              "      <td>5.464256</td>\n",
              "      <td>28.428104</td>\n",
              "      <td>10.702959</td>\n",
              "      <td>139.309330</td>\n",
              "    </tr>\n",
              "    <tr>\n",
              "      <th>max</th>\n",
              "      <td>192.617188</td>\n",
              "      <td>98.778911</td>\n",
              "      <td>8.069522</td>\n",
              "      <td>68.101622</td>\n",
              "      <td>223.392141</td>\n",
              "      <td>110.642211</td>\n",
              "      <td>34.539844</td>\n",
              "      <td>1191.000837</td>\n",
              "    </tr>\n",
              "  </tbody>\n",
              "</table>\n",
              "</div>\n",
              "      <button class=\"colab-df-convert\" onclick=\"convertToInteractive('df-1b3ee393-b7cb-4167-b48c-3c3ef46ce995')\"\n",
              "              title=\"Convert this dataframe to an interactive table.\"\n",
              "              style=\"display:none;\">\n",
              "        \n",
              "  <svg xmlns=\"http://www.w3.org/2000/svg\" height=\"24px\"viewBox=\"0 0 24 24\"\n",
              "       width=\"24px\">\n",
              "    <path d=\"M0 0h24v24H0V0z\" fill=\"none\"/>\n",
              "    <path d=\"M18.56 5.44l.94 2.06.94-2.06 2.06-.94-2.06-.94-.94-2.06-.94 2.06-2.06.94zm-11 1L8.5 8.5l.94-2.06 2.06-.94-2.06-.94L8.5 2.5l-.94 2.06-2.06.94zm10 10l.94 2.06.94-2.06 2.06-.94-2.06-.94-.94-2.06-.94 2.06-2.06.94z\"/><path d=\"M17.41 7.96l-1.37-1.37c-.4-.4-.92-.59-1.43-.59-.52 0-1.04.2-1.43.59L10.3 9.45l-7.72 7.72c-.78.78-.78 2.05 0 2.83L4 21.41c.39.39.9.59 1.41.59.51 0 1.02-.2 1.41-.59l7.78-7.78 2.81-2.81c.8-.78.8-2.07 0-2.86zM5.41 20L4 18.59l7.72-7.72 1.47 1.35L5.41 20z\"/>\n",
              "  </svg>\n",
              "      </button>\n",
              "      \n",
              "  <style>\n",
              "    .colab-df-container {\n",
              "      display:flex;\n",
              "      flex-wrap:wrap;\n",
              "      gap: 12px;\n",
              "    }\n",
              "\n",
              "    .colab-df-convert {\n",
              "      background-color: #E8F0FE;\n",
              "      border: none;\n",
              "      border-radius: 50%;\n",
              "      cursor: pointer;\n",
              "      display: none;\n",
              "      fill: #1967D2;\n",
              "      height: 32px;\n",
              "      padding: 0 0 0 0;\n",
              "      width: 32px;\n",
              "    }\n",
              "\n",
              "    .colab-df-convert:hover {\n",
              "      background-color: #E2EBFA;\n",
              "      box-shadow: 0px 1px 2px rgba(60, 64, 67, 0.3), 0px 1px 3px 1px rgba(60, 64, 67, 0.15);\n",
              "      fill: #174EA6;\n",
              "    }\n",
              "\n",
              "    [theme=dark] .colab-df-convert {\n",
              "      background-color: #3B4455;\n",
              "      fill: #D2E3FC;\n",
              "    }\n",
              "\n",
              "    [theme=dark] .colab-df-convert:hover {\n",
              "      background-color: #434B5C;\n",
              "      box-shadow: 0px 1px 3px 1px rgba(0, 0, 0, 0.15);\n",
              "      filter: drop-shadow(0px 1px 2px rgba(0, 0, 0, 0.3));\n",
              "      fill: #FFFFFF;\n",
              "    }\n",
              "  </style>\n",
              "\n",
              "      <script>\n",
              "        const buttonEl =\n",
              "          document.querySelector('#df-1b3ee393-b7cb-4167-b48c-3c3ef46ce995 button.colab-df-convert');\n",
              "        buttonEl.style.display =\n",
              "          google.colab.kernel.accessAllowed ? 'block' : 'none';\n",
              "\n",
              "        async function convertToInteractive(key) {\n",
              "          const element = document.querySelector('#df-1b3ee393-b7cb-4167-b48c-3c3ef46ce995');\n",
              "          const dataTable =\n",
              "            await google.colab.kernel.invokeFunction('convertToInteractive',\n",
              "                                                     [key], {});\n",
              "          if (!dataTable) return;\n",
              "\n",
              "          const docLinkHtml = 'Like what you see? Visit the ' +\n",
              "            '<a target=\"_blank\" href=https://colab.research.google.com/notebooks/data_table.ipynb>data table notebook</a>'\n",
              "            + ' to learn more about interactive tables.';\n",
              "          element.innerHTML = '';\n",
              "          dataTable['output_type'] = 'display_data';\n",
              "          await google.colab.output.renderOutput(dataTable, element);\n",
              "          const docLink = document.createElement('div');\n",
              "          docLink.innerHTML = docLinkHtml;\n",
              "          element.appendChild(docLink);\n",
              "        }\n",
              "      </script>\n",
              "    </div>\n",
              "  </div>\n",
              "  "
            ]
          },
          "metadata": {},
          "execution_count": 9
        }
      ]
    },
    {
      "cell_type": "markdown",
      "source": [
        "Можно видеть достаточной большой разброс значений предикторов, от небольших отрицательных значений до тысячи как максимального значения в столбце SC, данные отличаются на 3 порядка. Поэтому перед началом работы с данными необходимо провести их стандартизацию. "
      ],
      "metadata": {
        "id": "aEt2Vpk54JA_"
      }
    },
    {
      "cell_type": "markdown",
      "source": [
        "Перед началом работы с данными визуализируем пропорцию между объектами, оказавшимися пульсарами (TG = 1), и объектами, не оказавшимися пульсарами (TG = 0):"
      ],
      "metadata": {
        "id": "Pa6QT11n5tS8"
      }
    },
    {
      "cell_type": "code",
      "source": [
        "plt.figure(figsize=(4,4))\n",
        "plt.pie(puls_cand['TG'].value_counts().values, labels = ['Not pulsar stars','Pulsar stars'], colors = ['pink', 'lightgreen'], autopct='%0.2f%%')\n",
        "plt.title('Пропорция по TG исходного датасета')\n",
        "plt.show()"
      ],
      "metadata": {
        "colab": {
          "base_uri": "https://localhost:8080/",
          "height": 264
        },
        "id": "ZYTupUvQ5tCV",
        "outputId": "fab25ab2-17e0-4805-d2cf-bc22d6ba48a8"
      },
      "execution_count": null,
      "outputs": [
        {
          "output_type": "display_data",
          "data": {
            "text/plain": [
              "<Figure size 288x288 with 1 Axes>"
            ],
            "image/png": "[encoded data removed]"
          },
          "metadata": {}
        }
      ]
    },
    {
      "cell_type": "markdown",
      "source": [
        "Таким образом, получаем, что в исходном датасете около 91% объектов не являются пульсарами, и только ~9% составляют пульсары."
      ],
      "metadata": {
        "id": "yY2MMYpT-jch"
      }
    },
    {
      "cell_type": "markdown",
      "source": [
        "Более того, мы можем также определить какие признаки из датасета коррелируют друг с другом, визуализировав корелляционную матрицу (указываются значения коэффициентов корреляции):"
      ],
      "metadata": {
        "id": "biHIlJW0_MhE"
      }
    },
    {
      "cell_type": "code",
      "source": [
        "plt.figure(figsize=(10, 4))\n",
        "sns.heatmap(puls_cand.corr(), vmin=-1, vmax=1, annot=True, cmap='YlGnBu')\n",
        "plt.title('Корреляционная тепловая карта', fontdict={'fontsize':12}, pad=12);"
      ],
      "metadata": {
        "colab": {
          "base_uri": "https://localhost:8080/",
          "height": 287
        },
        "id": "NEuWzjtG12XM",
        "outputId": "04b79d1a-bf4b-49b3-9a0c-a175cd02be58"
      },
      "execution_count": null,
      "outputs": [
        {
          "output_type": "display_data",
          "data": {
            "text/plain": [
              "<Figure size 720x288 with 2 Axes>"
            ],
            "image/png": "[encoded data removed]"
          },
          "metadata": {
            "needs_background": "light"
          }
        }
      ]
    },
    {
      "cell_type": "markdown",
      "source": [
        "Отсюда можно сделать вывод о наибольшей положительной корреляции между следующими предикторами: SIP и EKIP (коэфф. корреляции составляет 0.95), EKC и SC (коэфф. корреляции 0.92), наибольшая отрицательная корреляция наблюдаестся между MIP и EKIP (коэфф. корреляции составляет -0.87), а также EKC и STDC (коэфф. корреляции составляет -0.81). \n",
        "\n",
        "Еще более интересным является анализ влияния каждого из предикторов на величину TG. Как можно заметить наибольшая положительная корреляция наблюдается для предикторов EKIP (коэфф. корреляции 0.79) и SIP (коэфф. корреляции 0.71), т.е. с увеличением этих показателей увеличивается и TG, а значит большее количество объектов, зафиксированных как пульсары, имеют большие значения эксцесса и скошенности интегрального профиля. Что же касается отрициательной корреляции, то она наибольшая у предиктора MIP (коэфф. корреляции -0.67), что может свидетельствовать о том, что с уменьшением среднего значения интегрального профиля, увеличивается вероятность идентификации объекта как пульсар.\n",
        "\n",
        "Несмотря на то, что между признаками существует явная корреляция, для построения моделей классификации мы будем использовать все предикторы, поскольку их количество невелико."
      ],
      "metadata": {
        "id": "e5baEhA4BLlT"
      }
    },
    {
      "cell_type": "markdown",
      "source": [
        "Перейдем к стандартизации предикторов, для этого используем функцию scale()."
      ],
      "metadata": {
        "id": "-aazbJ1iGNJS"
      }
    },
    {
      "cell_type": "code",
      "source": [
        "st_pred_puls = pd.DataFrame(data = scale(puls_cand.iloc[:,:-1]), index = puls_cand.iloc[:,:-1].index, columns = puls_cand.iloc[:,:-1].columns)\n",
        "st_pred_puls.head()"
      ],
      "metadata": {
        "colab": {
          "base_uri": "https://localhost:8080/",
          "height": 206
        },
        "id": "2CtLUhDmFuyA",
        "outputId": "040260cb-c5f9-40c2-b824-508950e17036"
      },
      "execution_count": null,
      "outputs": [
        {
          "output_type": "execute_result",
          "data": {
            "text/plain": [
              "        MIP     STDIP      EKIP       SIP        MC      STDC       EKC  \\\n",
              "0  1.149317  1.334832 -0.669570 -0.400459 -0.319440 -0.370625 -0.072798   \n",
              "1 -0.334168  1.802265 -0.011785 -0.370535 -0.371102 -0.588924  0.504427   \n",
              "2 -0.314372 -1.053322 -0.145233 -0.116593 -0.322107 -0.235328 -0.125996   \n",
              "3  1.000694  1.553254 -0.513409 -0.390178 -0.304404 -0.275666 -0.312265   \n",
              "4 -0.871402 -0.858879  0.115609 -0.104866 -0.388010 -0.763111  1.324026   \n",
              "\n",
              "         SC  \n",
              "0 -0.287438  \n",
              "1  0.211581  \n",
              "2 -0.391373  \n",
              "3 -0.481300  \n",
              "4  1.386794  "
            ],
            "text/html": [
              "\n",
              "  <div id=\"df-5ad4222e-72f1-48fa-9b0b-982ec37888c7\">\n",
              "    <div class=\"colab-df-container\">\n",
              "      <div>\n",
              "<style scoped>\n",
              "    .dataframe tbody tr th:only-of-type {\n",
              "        vertical-align: middle;\n",
              "    }\n",
              "\n",
              "    .dataframe tbody tr th {\n",
              "        vertical-align: top;\n",
              "    }\n",
              "\n",
              "    .dataframe thead th {\n",
              "        text-align: right;\n",
              "    }\n",
              "</style>\n",
              "<table border=\"1\" class=\"dataframe\">\n",
              "  <thead>\n",
              "    <tr style=\"text-align: right;\">\n",
              "      <th></th>\n",
              "      <th>MIP</th>\n",
              "      <th>STDIP</th>\n",
              "      <th>EKIP</th>\n",
              "      <th>SIP</th>\n",
              "      <th>MC</th>\n",
              "      <th>STDC</th>\n",
              "      <th>EKC</th>\n",
              "      <th>SC</th>\n",
              "    </tr>\n",
              "  </thead>\n",
              "  <tbody>\n",
              "    <tr>\n",
              "      <th>0</th>\n",
              "      <td>1.149317</td>\n",
              "      <td>1.334832</td>\n",
              "      <td>-0.669570</td>\n",
              "      <td>-0.400459</td>\n",
              "      <td>-0.319440</td>\n",
              "      <td>-0.370625</td>\n",
              "      <td>-0.072798</td>\n",
              "      <td>-0.287438</td>\n",
              "    </tr>\n",
              "    <tr>\n",
              "      <th>1</th>\n",
              "      <td>-0.334168</td>\n",
              "      <td>1.802265</td>\n",
              "      <td>-0.011785</td>\n",
              "      <td>-0.370535</td>\n",
              "      <td>-0.371102</td>\n",
              "      <td>-0.588924</td>\n",
              "      <td>0.504427</td>\n",
              "      <td>0.211581</td>\n",
              "    </tr>\n",
              "    <tr>\n",
              "      <th>2</th>\n",
              "      <td>-0.314372</td>\n",
              "      <td>-1.053322</td>\n",
              "      <td>-0.145233</td>\n",
              "      <td>-0.116593</td>\n",
              "      <td>-0.322107</td>\n",
              "      <td>-0.235328</td>\n",
              "      <td>-0.125996</td>\n",
              "      <td>-0.391373</td>\n",
              "    </tr>\n",
              "    <tr>\n",
              "      <th>3</th>\n",
              "      <td>1.000694</td>\n",
              "      <td>1.553254</td>\n",
              "      <td>-0.513409</td>\n",
              "      <td>-0.390178</td>\n",
              "      <td>-0.304404</td>\n",
              "      <td>-0.275666</td>\n",
              "      <td>-0.312265</td>\n",
              "      <td>-0.481300</td>\n",
              "    </tr>\n",
              "    <tr>\n",
              "      <th>4</th>\n",
              "      <td>-0.871402</td>\n",
              "      <td>-0.858879</td>\n",
              "      <td>0.115609</td>\n",
              "      <td>-0.104866</td>\n",
              "      <td>-0.388010</td>\n",
              "      <td>-0.763111</td>\n",
              "      <td>1.324026</td>\n",
              "      <td>1.386794</td>\n",
              "    </tr>\n",
              "  </tbody>\n",
              "</table>\n",
              "</div>\n",
              "      <button class=\"colab-df-convert\" onclick=\"convertToInteractive('df-5ad4222e-72f1-48fa-9b0b-982ec37888c7')\"\n",
              "              title=\"Convert this dataframe to an interactive table.\"\n",
              "              style=\"display:none;\">\n",
              "        \n",
              "  <svg xmlns=\"http://www.w3.org/2000/svg\" height=\"24px\"viewBox=\"0 0 24 24\"\n",
              "       width=\"24px\">\n",
              "    <path d=\"M0 0h24v24H0V0z\" fill=\"none\"/>\n",
              "    <path d=\"M18.56 5.44l.94 2.06.94-2.06 2.06-.94-2.06-.94-.94-2.06-.94 2.06-2.06.94zm-11 1L8.5 8.5l.94-2.06 2.06-.94-2.06-.94L8.5 2.5l-.94 2.06-2.06.94zm10 10l.94 2.06.94-2.06 2.06-.94-2.06-.94-.94-2.06-.94 2.06-2.06.94z\"/><path d=\"M17.41 7.96l-1.37-1.37c-.4-.4-.92-.59-1.43-.59-.52 0-1.04.2-1.43.59L10.3 9.45l-7.72 7.72c-.78.78-.78 2.05 0 2.83L4 21.41c.39.39.9.59 1.41.59.51 0 1.02-.2 1.41-.59l7.78-7.78 2.81-2.81c.8-.78.8-2.07 0-2.86zM5.41 20L4 18.59l7.72-7.72 1.47 1.35L5.41 20z\"/>\n",
              "  </svg>\n",
              "      </button>\n",
              "      \n",
              "  <style>\n",
              "    .colab-df-container {\n",
              "      display:flex;\n",
              "      flex-wrap:wrap;\n",
              "      gap: 12px;\n",
              "    }\n",
              "\n",
              "    .colab-df-convert {\n",
              "      background-color: #E8F0FE;\n",
              "      border: none;\n",
              "      border-radius: 50%;\n",
              "      cursor: pointer;\n",
              "      display: none;\n",
              "      fill: #1967D2;\n",
              "      height: 32px;\n",
              "      padding: 0 0 0 0;\n",
              "      width: 32px;\n",
              "    }\n",
              "\n",
              "    .colab-df-convert:hover {\n",
              "      background-color: #E2EBFA;\n",
              "      box-shadow: 0px 1px 2px rgba(60, 64, 67, 0.3), 0px 1px 3px 1px rgba(60, 64, 67, 0.15);\n",
              "      fill: #174EA6;\n",
              "    }\n",
              "\n",
              "    [theme=dark] .colab-df-convert {\n",
              "      background-color: #3B4455;\n",
              "      fill: #D2E3FC;\n",
              "    }\n",
              "\n",
              "    [theme=dark] .colab-df-convert:hover {\n",
              "      background-color: #434B5C;\n",
              "      box-shadow: 0px 1px 3px 1px rgba(0, 0, 0, 0.15);\n",
              "      filter: drop-shadow(0px 1px 2px rgba(0, 0, 0, 0.3));\n",
              "      fill: #FFFFFF;\n",
              "    }\n",
              "  </style>\n",
              "\n",
              "      <script>\n",
              "        const buttonEl =\n",
              "          document.querySelector('#df-5ad4222e-72f1-48fa-9b0b-982ec37888c7 button.colab-df-convert');\n",
              "        buttonEl.style.display =\n",
              "          google.colab.kernel.accessAllowed ? 'block' : 'none';\n",
              "\n",
              "        async function convertToInteractive(key) {\n",
              "          const element = document.querySelector('#df-5ad4222e-72f1-48fa-9b0b-982ec37888c7');\n",
              "          const dataTable =\n",
              "            await google.colab.kernel.invokeFunction('convertToInteractive',\n",
              "                                                     [key], {});\n",
              "          if (!dataTable) return;\n",
              "\n",
              "          const docLinkHtml = 'Like what you see? Visit the ' +\n",
              "            '<a target=\"_blank\" href=https://colab.research.google.com/notebooks/data_table.ipynb>data table notebook</a>'\n",
              "            + ' to learn more about interactive tables.';\n",
              "          element.innerHTML = '';\n",
              "          dataTable['output_type'] = 'display_data';\n",
              "          await google.colab.output.renderOutput(dataTable, element);\n",
              "          const docLink = document.createElement('div');\n",
              "          docLink.innerHTML = docLinkHtml;\n",
              "          element.appendChild(docLink);\n",
              "        }\n",
              "      </script>\n",
              "    </div>\n",
              "  </div>\n",
              "  "
            ]
          },
          "metadata": {},
          "execution_count": 4
        }
      ]
    },
    {
      "cell_type": "markdown",
      "source": [
        "Получаем датасет с стандартизированными признаками:"
      ],
      "metadata": {
        "id": "IX3oDndFIrC_"
      }
    },
    {
      "cell_type": "code",
      "source": [
        "st_puls_cand = pd.concat([st_pred_puls, puls_cand.TG], axis=1)\n",
        "st_puls_cand.head()"
      ],
      "metadata": {
        "colab": {
          "base_uri": "https://localhost:8080/",
          "height": 206
        },
        "id": "N5queRG1H6Hh",
        "outputId": "bd4cd3b9-3015-4d37-8580-7f85162730c5"
      },
      "execution_count": null,
      "outputs": [
        {
          "output_type": "execute_result",
          "data": {
            "text/plain": [
              "        MIP     STDIP      EKIP       SIP        MC      STDC       EKC  \\\n",
              "0  1.149317  1.334832 -0.669570 -0.400459 -0.319440 -0.370625 -0.072798   \n",
              "1 -0.334168  1.802265 -0.011785 -0.370535 -0.371102 -0.588924  0.504427   \n",
              "2 -0.314372 -1.053322 -0.145233 -0.116593 -0.322107 -0.235328 -0.125996   \n",
              "3  1.000694  1.553254 -0.513409 -0.390178 -0.304404 -0.275666 -0.312265   \n",
              "4 -0.871402 -0.858879  0.115609 -0.104866 -0.388010 -0.763111  1.324026   \n",
              "\n",
              "         SC  TG  \n",
              "0 -0.287438   0  \n",
              "1  0.211581   0  \n",
              "2 -0.391373   0  \n",
              "3 -0.481300   0  \n",
              "4  1.386794   0  "
            ],
            "text/html": [
              "\n",
              "  <div id=\"df-8cfefa2a-6bae-4d01-87c3-cbe4fda5125e\">\n",
              "    <div class=\"colab-df-container\">\n",
              "      <div>\n",
              "<style scoped>\n",
              "    .dataframe tbody tr th:only-of-type {\n",
              "        vertical-align: middle;\n",
              "    }\n",
              "\n",
              "    .dataframe tbody tr th {\n",
              "        vertical-align: top;\n",
              "    }\n",
              "\n",
              "    .dataframe thead th {\n",
              "        text-align: right;\n",
              "    }\n",
              "</style>\n",
              "<table border=\"1\" class=\"dataframe\">\n",
              "  <thead>\n",
              "    <tr style=\"text-align: right;\">\n",
              "      <th></th>\n",
              "      <th>MIP</th>\n",
              "      <th>STDIP</th>\n",
              "      <th>EKIP</th>\n",
              "      <th>SIP</th>\n",
              "      <th>MC</th>\n",
              "      <th>STDC</th>\n",
              "      <th>EKC</th>\n",
              "      <th>SC</th>\n",
              "      <th>TG</th>\n",
              "    </tr>\n",
              "  </thead>\n",
              "  <tbody>\n",
              "    <tr>\n",
              "      <th>0</th>\n",
              "      <td>1.149317</td>\n",
              "      <td>1.334832</td>\n",
              "      <td>-0.669570</td>\n",
              "      <td>-0.400459</td>\n",
              "      <td>-0.319440</td>\n",
              "      <td>-0.370625</td>\n",
              "      <td>-0.072798</td>\n",
              "      <td>-0.287438</td>\n",
              "      <td>0</td>\n",
              "    </tr>\n",
              "    <tr>\n",
              "      <th>1</th>\n",
              "      <td>-0.334168</td>\n",
              "      <td>1.802265</td>\n",
              "      <td>-0.011785</td>\n",
              "      <td>-0.370535</td>\n",
              "      <td>-0.371102</td>\n",
              "      <td>-0.588924</td>\n",
              "      <td>0.504427</td>\n",
              "      <td>0.211581</td>\n",
              "      <td>0</td>\n",
              "    </tr>\n",
              "    <tr>\n",
              "      <th>2</th>\n",
              "      <td>-0.314372</td>\n",
              "      <td>-1.053322</td>\n",
              "      <td>-0.145233</td>\n",
              "      <td>-0.116593</td>\n",
              "      <td>-0.322107</td>\n",
              "      <td>-0.235328</td>\n",
              "      <td>-0.125996</td>\n",
              "      <td>-0.391373</td>\n",
              "      <td>0</td>\n",
              "    </tr>\n",
              "    <tr>\n",
              "      <th>3</th>\n",
              "      <td>1.000694</td>\n",
              "      <td>1.553254</td>\n",
              "      <td>-0.513409</td>\n",
              "      <td>-0.390178</td>\n",
              "      <td>-0.304404</td>\n",
              "      <td>-0.275666</td>\n",
              "      <td>-0.312265</td>\n",
              "      <td>-0.481300</td>\n",
              "      <td>0</td>\n",
              "    </tr>\n",
              "    <tr>\n",
              "      <th>4</th>\n",
              "      <td>-0.871402</td>\n",
              "      <td>-0.858879</td>\n",
              "      <td>0.115609</td>\n",
              "      <td>-0.104866</td>\n",
              "      <td>-0.388010</td>\n",
              "      <td>-0.763111</td>\n",
              "      <td>1.324026</td>\n",
              "      <td>1.386794</td>\n",
              "      <td>0</td>\n",
              "    </tr>\n",
              "  </tbody>\n",
              "</table>\n",
              "</div>\n",
              "      <button class=\"colab-df-convert\" onclick=\"convertToInteractive('df-8cfefa2a-6bae-4d01-87c3-cbe4fda5125e')\"\n",
              "              title=\"Convert this dataframe to an interactive table.\"\n",
              "              style=\"display:none;\">\n",
              "        \n",
              "  <svg xmlns=\"http://www.w3.org/2000/svg\" height=\"24px\"viewBox=\"0 0 24 24\"\n",
              "       width=\"24px\">\n",
              "    <path d=\"M0 0h24v24H0V0z\" fill=\"none\"/>\n",
              "    <path d=\"M18.56 5.44l.94 2.06.94-2.06 2.06-.94-2.06-.94-.94-2.06-.94 2.06-2.06.94zm-11 1L8.5 8.5l.94-2.06 2.06-.94-2.06-.94L8.5 2.5l-.94 2.06-2.06.94zm10 10l.94 2.06.94-2.06 2.06-.94-2.06-.94-.94-2.06-.94 2.06-2.06.94z\"/><path d=\"M17.41 7.96l-1.37-1.37c-.4-.4-.92-.59-1.43-.59-.52 0-1.04.2-1.43.59L10.3 9.45l-7.72 7.72c-.78.78-.78 2.05 0 2.83L4 21.41c.39.39.9.59 1.41.59.51 0 1.02-.2 1.41-.59l7.78-7.78 2.81-2.81c.8-.78.8-2.07 0-2.86zM5.41 20L4 18.59l7.72-7.72 1.47 1.35L5.41 20z\"/>\n",
              "  </svg>\n",
              "      </button>\n",
              "      \n",
              "  <style>\n",
              "    .colab-df-container {\n",
              "      display:flex;\n",
              "      flex-wrap:wrap;\n",
              "      gap: 12px;\n",
              "    }\n",
              "\n",
              "    .colab-df-convert {\n",
              "      background-color: #E8F0FE;\n",
              "      border: none;\n",
              "      border-radius: 50%;\n",
              "      cursor: pointer;\n",
              "      display: none;\n",
              "      fill: #1967D2;\n",
              "      height: 32px;\n",
              "      padding: 0 0 0 0;\n",
              "      width: 32px;\n",
              "    }\n",
              "\n",
              "    .colab-df-convert:hover {\n",
              "      background-color: #E2EBFA;\n",
              "      box-shadow: 0px 1px 2px rgba(60, 64, 67, 0.3), 0px 1px 3px 1px rgba(60, 64, 67, 0.15);\n",
              "      fill: #174EA6;\n",
              "    }\n",
              "\n",
              "    [theme=dark] .colab-df-convert {\n",
              "      background-color: #3B4455;\n",
              "      fill: #D2E3FC;\n",
              "    }\n",
              "\n",
              "    [theme=dark] .colab-df-convert:hover {\n",
              "      background-color: #434B5C;\n",
              "      box-shadow: 0px 1px 3px 1px rgba(0, 0, 0, 0.15);\n",
              "      filter: drop-shadow(0px 1px 2px rgba(0, 0, 0, 0.3));\n",
              "      fill: #FFFFFF;\n",
              "    }\n",
              "  </style>\n",
              "\n",
              "      <script>\n",
              "        const buttonEl =\n",
              "          document.querySelector('#df-8cfefa2a-6bae-4d01-87c3-cbe4fda5125e button.colab-df-convert');\n",
              "        buttonEl.style.display =\n",
              "          google.colab.kernel.accessAllowed ? 'block' : 'none';\n",
              "\n",
              "        async function convertToInteractive(key) {\n",
              "          const element = document.querySelector('#df-8cfefa2a-6bae-4d01-87c3-cbe4fda5125e');\n",
              "          const dataTable =\n",
              "            await google.colab.kernel.invokeFunction('convertToInteractive',\n",
              "                                                     [key], {});\n",
              "          if (!dataTable) return;\n",
              "\n",
              "          const docLinkHtml = 'Like what you see? Visit the ' +\n",
              "            '<a target=\"_blank\" href=https://colab.research.google.com/notebooks/data_table.ipynb>data table notebook</a>'\n",
              "            + ' to learn more about interactive tables.';\n",
              "          element.innerHTML = '';\n",
              "          dataTable['output_type'] = 'display_data';\n",
              "          await google.colab.output.renderOutput(dataTable, element);\n",
              "          const docLink = document.createElement('div');\n",
              "          docLink.innerHTML = docLinkHtml;\n",
              "          element.appendChild(docLink);\n",
              "        }\n",
              "      </script>\n",
              "    </div>\n",
              "  </div>\n",
              "  "
            ]
          },
          "metadata": {},
          "execution_count": 5
        }
      ]
    },
    {
      "cell_type": "markdown",
      "source": [
        "# Постановка задачи и построение модели"
      ],
      "metadata": {
        "id": "oO3trxYxJdlW"
      }
    },
    {
      "cell_type": "markdown",
      "source": [
        "Наша задача - провести двухклассовую классификацию астрофизических объектов по принадлежности к классу пульсаров. Для этого рассмотрим модель бэггинга деревьев принятия решений."
      ],
      "metadata": {
        "id": "pEPlJndOLH2G"
      }
    },
    {
      "cell_type": "markdown",
      "source": [
        "Обучим модель **DecisionTreeClassifier**. При этом проверим, при какой максимальной глубине дерева наш классификатор будет давать наибольшую точность."
      ],
      "metadata": {
        "id": "bXk-GxXWhnZq"
      }
    },
    {
      "cell_type": "code",
      "source": [
        "X = st_puls_cand.iloc[:,0:8].values\n",
        "y = st_puls_cand.iloc[:,8].values"
      ],
      "metadata": {
        "id": "z1R_ao0AjwCD"
      },
      "execution_count": null,
      "outputs": []
    },
    {
      "cell_type": "markdown",
      "source": [
        "Разделим данные на обучающую и тестовую выборки:"
      ],
      "metadata": {
        "id": "bHJAm7ydjbHc"
      }
    },
    {
      "cell_type": "code",
      "source": [
        "X_train, X_test, y_train, y_test = train_test_split(X, y, test_size = 0.3)"
      ],
      "metadata": {
        "id": "0Ja_T_pdjKhn"
      },
      "execution_count": null,
      "outputs": []
    },
    {
      "cell_type": "markdown",
      "source": [
        "Проверим точности, достигаемые на тренировочной выборке, на тестовых данных и точности при кросс-валидации для различной глубины построения дерева (глубина построения от 1 до 20):"
      ],
      "metadata": {
        "id": "oay5lWoc7QUH"
      }
    },
    {
      "cell_type": "code",
      "source": [
        "depth_values = range(1,21)\n",
        "scores_data = pd.DataFrame()"
      ],
      "metadata": {
        "id": "-n3bwfJkibvz"
      },
      "execution_count": null,
      "outputs": []
    },
    {
      "cell_type": "code",
      "source": [
        "for depth in depth_values:\n",
        "  clf = DecisionTreeClassifier(criterion='entropy', max_depth = depth)\n",
        "  clf.fit(X_train, y_train)\n",
        "  train_score = clf.score(X_train, y_train)\n",
        "  test_score = clf.score(X_test, y_test)\n",
        "  mean_cross_val_score = cross_val_score(clf, X_train, y_train, cv = 5).mean()\n",
        "  scores = pd.DataFrame({'max_depth': [depth], 'train_score':train_score, 'test_score':test_score, 'cross_val_score': mean_cross_val_score})\n",
        "  \n",
        "  scores_data = scores_data.append(scores)\n"
      ],
      "metadata": {
        "id": "HSEf5rAnJMoC"
      },
      "execution_count": null,
      "outputs": []
    },
    {
      "cell_type": "code",
      "source": [
        "scores_data = scores_data.set_index('max_depth')\n",
        "scores_data"
      ],
      "metadata": {
        "colab": {
          "base_uri": "https://localhost:8080/",
          "height": 708
        },
        "id": "wefA-FfDngny",
        "outputId": "5401632c-b9ff-42d3-eb10-920d070638d0"
      },
      "execution_count": null,
      "outputs": [
        {
          "output_type": "execute_result",
          "data": {
            "text/plain": [
              "           train_score  test_score  cross_val_score\n",
              "max_depth                                          \n",
              "1             0.977730    0.976350         0.977411\n",
              "2             0.977730    0.976350         0.977411\n",
              "3             0.979087    0.978399         0.977810\n",
              "4             0.979486    0.976350         0.977092\n",
              "5             0.981801    0.977654         0.977810\n",
              "6             0.983397    0.976909         0.978369\n",
              "7             0.985473    0.976723         0.977411\n",
              "8             0.987149    0.976536         0.976373\n",
              "9             0.989384    0.974488         0.975416\n",
              "10            0.991459    0.975233         0.973979\n",
              "11            0.992577    0.973743         0.973260\n",
              "12            0.993534    0.975047         0.971105\n",
              "13            0.994013    0.973929         0.970866\n",
              "14            0.994812    0.971508         0.969908\n",
              "15            0.995450    0.972253         0.969748\n",
              "16            0.996408    0.970950         0.969748\n",
              "17            0.997446    0.968715         0.968551\n",
              "18            0.997446    0.972812         0.968391\n",
              "19            0.997925    0.971508         0.968072\n",
              "20            0.999681    0.968529         0.968710"
            ],
            "text/html": [
              "\n",
              "  <div id=\"df-2b23fadb-7b1f-431a-80cc-f08328702b73\">\n",
              "    <div class=\"colab-df-container\">\n",
              "      <div>\n",
              "<style scoped>\n",
              "    .dataframe tbody tr th:only-of-type {\n",
              "        vertical-align: middle;\n",
              "    }\n",
              "\n",
              "    .dataframe tbody tr th {\n",
              "        vertical-align: top;\n",
              "    }\n",
              "\n",
              "    .dataframe thead th {\n",
              "        text-align: right;\n",
              "    }\n",
              "</style>\n",
              "<table border=\"1\" class=\"dataframe\">\n",
              "  <thead>\n",
              "    <tr style=\"text-align: right;\">\n",
              "      <th></th>\n",
              "      <th>train_score</th>\n",
              "      <th>test_score</th>\n",
              "      <th>cross_val_score</th>\n",
              "    </tr>\n",
              "    <tr>\n",
              "      <th>max_depth</th>\n",
              "      <th></th>\n",
              "      <th></th>\n",
              "      <th></th>\n",
              "    </tr>\n",
              "  </thead>\n",
              "  <tbody>\n",
              "    <tr>\n",
              "      <th>1</th>\n",
              "      <td>0.977730</td>\n",
              "      <td>0.976350</td>\n",
              "      <td>0.977411</td>\n",
              "    </tr>\n",
              "    <tr>\n",
              "      <th>2</th>\n",
              "      <td>0.977730</td>\n",
              "      <td>0.976350</td>\n",
              "      <td>0.977411</td>\n",
              "    </tr>\n",
              "    <tr>\n",
              "      <th>3</th>\n",
              "      <td>0.979087</td>\n",
              "      <td>0.978399</td>\n",
              "      <td>0.977810</td>\n",
              "    </tr>\n",
              "    <tr>\n",
              "      <th>4</th>\n",
              "      <td>0.979486</td>\n",
              "      <td>0.976350</td>\n",
              "      <td>0.977092</td>\n",
              "    </tr>\n",
              "    <tr>\n",
              "      <th>5</th>\n",
              "      <td>0.981801</td>\n",
              "      <td>0.977654</td>\n",
              "      <td>0.977810</td>\n",
              "    </tr>\n",
              "    <tr>\n",
              "      <th>6</th>\n",
              "      <td>0.983397</td>\n",
              "      <td>0.976909</td>\n",
              "      <td>0.978369</td>\n",
              "    </tr>\n",
              "    <tr>\n",
              "      <th>7</th>\n",
              "      <td>0.985473</td>\n",
              "      <td>0.976723</td>\n",
              "      <td>0.977411</td>\n",
              "    </tr>\n",
              "    <tr>\n",
              "      <th>8</th>\n",
              "      <td>0.987149</td>\n",
              "      <td>0.976536</td>\n",
              "      <td>0.976373</td>\n",
              "    </tr>\n",
              "    <tr>\n",
              "      <th>9</th>\n",
              "      <td>0.989384</td>\n",
              "      <td>0.974488</td>\n",
              "      <td>0.975416</td>\n",
              "    </tr>\n",
              "    <tr>\n",
              "      <th>10</th>\n",
              "      <td>0.991459</td>\n",
              "      <td>0.975233</td>\n",
              "      <td>0.973979</td>\n",
              "    </tr>\n",
              "    <tr>\n",
              "      <th>11</th>\n",
              "      <td>0.992577</td>\n",
              "      <td>0.973743</td>\n",
              "      <td>0.973260</td>\n",
              "    </tr>\n",
              "    <tr>\n",
              "      <th>12</th>\n",
              "      <td>0.993534</td>\n",
              "      <td>0.975047</td>\n",
              "      <td>0.971105</td>\n",
              "    </tr>\n",
              "    <tr>\n",
              "      <th>13</th>\n",
              "      <td>0.994013</td>\n",
              "      <td>0.973929</td>\n",
              "      <td>0.970866</td>\n",
              "    </tr>\n",
              "    <tr>\n",
              "      <th>14</th>\n",
              "      <td>0.994812</td>\n",
              "      <td>0.971508</td>\n",
              "      <td>0.969908</td>\n",
              "    </tr>\n",
              "    <tr>\n",
              "      <th>15</th>\n",
              "      <td>0.995450</td>\n",
              "      <td>0.972253</td>\n",
              "      <td>0.969748</td>\n",
              "    </tr>\n",
              "    <tr>\n",
              "      <th>16</th>\n",
              "      <td>0.996408</td>\n",
              "      <td>0.970950</td>\n",
              "      <td>0.969748</td>\n",
              "    </tr>\n",
              "    <tr>\n",
              "      <th>17</th>\n",
              "      <td>0.997446</td>\n",
              "      <td>0.968715</td>\n",
              "      <td>0.968551</td>\n",
              "    </tr>\n",
              "    <tr>\n",
              "      <th>18</th>\n",
              "      <td>0.997446</td>\n",
              "      <td>0.972812</td>\n",
              "      <td>0.968391</td>\n",
              "    </tr>\n",
              "    <tr>\n",
              "      <th>19</th>\n",
              "      <td>0.997925</td>\n",
              "      <td>0.971508</td>\n",
              "      <td>0.968072</td>\n",
              "    </tr>\n",
              "    <tr>\n",
              "      <th>20</th>\n",
              "      <td>0.999681</td>\n",
              "      <td>0.968529</td>\n",
              "      <td>0.968710</td>\n",
              "    </tr>\n",
              "  </tbody>\n",
              "</table>\n",
              "</div>\n",
              "      <button class=\"colab-df-convert\" onclick=\"convertToInteractive('df-2b23fadb-7b1f-431a-80cc-f08328702b73')\"\n",
              "              title=\"Convert this dataframe to an interactive table.\"\n",
              "              style=\"display:none;\">\n",
              "        \n",
              "  <svg xmlns=\"http://www.w3.org/2000/svg\" height=\"24px\"viewBox=\"0 0 24 24\"\n",
              "       width=\"24px\">\n",
              "    <path d=\"M0 0h24v24H0V0z\" fill=\"none\"/>\n",
              "    <path d=\"M18.56 5.44l.94 2.06.94-2.06 2.06-.94-2.06-.94-.94-2.06-.94 2.06-2.06.94zm-11 1L8.5 8.5l.94-2.06 2.06-.94-2.06-.94L8.5 2.5l-.94 2.06-2.06.94zm10 10l.94 2.06.94-2.06 2.06-.94-2.06-.94-.94-2.06-.94 2.06-2.06.94z\"/><path d=\"M17.41 7.96l-1.37-1.37c-.4-.4-.92-.59-1.43-.59-.52 0-1.04.2-1.43.59L10.3 9.45l-7.72 7.72c-.78.78-.78 2.05 0 2.83L4 21.41c.39.39.9.59 1.41.59.51 0 1.02-.2 1.41-.59l7.78-7.78 2.81-2.81c.8-.78.8-2.07 0-2.86zM5.41 20L4 18.59l7.72-7.72 1.47 1.35L5.41 20z\"/>\n",
              "  </svg>\n",
              "      </button>\n",
              "      \n",
              "  <style>\n",
              "    .colab-df-container {\n",
              "      display:flex;\n",
              "      flex-wrap:wrap;\n",
              "      gap: 12px;\n",
              "    }\n",
              "\n",
              "    .colab-df-convert {\n",
              "      background-color: #E8F0FE;\n",
              "      border: none;\n",
              "      border-radius: 50%;\n",
              "      cursor: pointer;\n",
              "      display: none;\n",
              "      fill: #1967D2;\n",
              "      height: 32px;\n",
              "      padding: 0 0 0 0;\n",
              "      width: 32px;\n",
              "    }\n",
              "\n",
              "    .colab-df-convert:hover {\n",
              "      background-color: #E2EBFA;\n",
              "      box-shadow: 0px 1px 2px rgba(60, 64, 67, 0.3), 0px 1px 3px 1px rgba(60, 64, 67, 0.15);\n",
              "      fill: #174EA6;\n",
              "    }\n",
              "\n",
              "    [theme=dark] .colab-df-convert {\n",
              "      background-color: #3B4455;\n",
              "      fill: #D2E3FC;\n",
              "    }\n",
              "\n",
              "    [theme=dark] .colab-df-convert:hover {\n",
              "      background-color: #434B5C;\n",
              "      box-shadow: 0px 1px 3px 1px rgba(0, 0, 0, 0.15);\n",
              "      filter: drop-shadow(0px 1px 2px rgba(0, 0, 0, 0.3));\n",
              "      fill: #FFFFFF;\n",
              "    }\n",
              "  </style>\n",
              "\n",
              "      <script>\n",
              "        const buttonEl =\n",
              "          document.querySelector('#df-2b23fadb-7b1f-431a-80cc-f08328702b73 button.colab-df-convert');\n",
              "        buttonEl.style.display =\n",
              "          google.colab.kernel.accessAllowed ? 'block' : 'none';\n",
              "\n",
              "        async function convertToInteractive(key) {\n",
              "          const element = document.querySelector('#df-2b23fadb-7b1f-431a-80cc-f08328702b73');\n",
              "          const dataTable =\n",
              "            await google.colab.kernel.invokeFunction('convertToInteractive',\n",
              "                                                     [key], {});\n",
              "          if (!dataTable) return;\n",
              "\n",
              "          const docLinkHtml = 'Like what you see? Visit the ' +\n",
              "            '<a target=\"_blank\" href=https://colab.research.google.com/notebooks/data_table.ipynb>data table notebook</a>'\n",
              "            + ' to learn more about interactive tables.';\n",
              "          element.innerHTML = '';\n",
              "          dataTable['output_type'] = 'display_data';\n",
              "          await google.colab.output.renderOutput(dataTable, element);\n",
              "          const docLink = document.createElement('div');\n",
              "          docLink.innerHTML = docLinkHtml;\n",
              "          element.appendChild(docLink);\n",
              "        }\n",
              "      </script>\n",
              "    </div>\n",
              "  </div>\n",
              "  "
            ]
          },
          "metadata": {},
          "execution_count": 16
        }
      ]
    },
    {
      "cell_type": "code",
      "source": [
        "plt.figure(figsize = (8,5))\n",
        "sns.lineplot(data=scores_data)\n",
        "plt.xticks(range(1,21)) \n",
        "plt.xlabel('Max depth of tree')\n",
        "plt.ylabel('Score')\n",
        "plt.title('Распределение точности классификации в зав-ти от макс. глубины дерева')\n",
        "plt.show()"
      ],
      "metadata": {
        "colab": {
          "base_uri": "https://localhost:8080/",
          "height": 350
        },
        "id": "LWynb4JjoL7f",
        "outputId": "e02928ca-f570-42af-e384-0f744d33b03e"
      },
      "execution_count": null,
      "outputs": [
        {
          "output_type": "display_data",
          "data": {
            "text/plain": [
              "<Figure size 576x360 with 1 Axes>"
            ],
            "image/png": "[encoded data removed]"
          },
          "metadata": {
            "needs_background": "light"
          }
        }
      ]
    },
    {
      "cell_type": "code",
      "source": [
        "scores_data[scores_data.cross_val_score == scores_data.cross_val_score.max()]"
      ],
      "metadata": {
        "colab": {
          "base_uri": "https://localhost:8080/",
          "height": 112
        },
        "id": "3U40bHi4ANV0",
        "outputId": "51169902-9193-438a-ae77-95612485955e"
      },
      "execution_count": null,
      "outputs": [
        {
          "output_type": "execute_result",
          "data": {
            "text/plain": [
              "           train_score  test_score  cross_val_score\n",
              "max_depth                                          \n",
              "5             0.980045    0.977281         0.977091"
            ],
            "text/html": [
              "\n",
              "  <div id=\"df-779a8994-7716-45be-a371-07699a16c064\">\n",
              "    <div class=\"colab-df-container\">\n",
              "      <div>\n",
              "<style scoped>\n",
              "    .dataframe tbody tr th:only-of-type {\n",
              "        vertical-align: middle;\n",
              "    }\n",
              "\n",
              "    .dataframe tbody tr th {\n",
              "        vertical-align: top;\n",
              "    }\n",
              "\n",
              "    .dataframe thead th {\n",
              "        text-align: right;\n",
              "    }\n",
              "</style>\n",
              "<table border=\"1\" class=\"dataframe\">\n",
              "  <thead>\n",
              "    <tr style=\"text-align: right;\">\n",
              "      <th></th>\n",
              "      <th>train_score</th>\n",
              "      <th>test_score</th>\n",
              "      <th>cross_val_score</th>\n",
              "    </tr>\n",
              "    <tr>\n",
              "      <th>max_depth</th>\n",
              "      <th></th>\n",
              "      <th></th>\n",
              "      <th></th>\n",
              "    </tr>\n",
              "  </thead>\n",
              "  <tbody>\n",
              "    <tr>\n",
              "      <th>5</th>\n",
              "      <td>0.980045</td>\n",
              "      <td>0.977281</td>\n",
              "      <td>0.977091</td>\n",
              "    </tr>\n",
              "  </tbody>\n",
              "</table>\n",
              "</div>\n",
              "      <button class=\"colab-df-convert\" onclick=\"convertToInteractive('df-779a8994-7716-45be-a371-07699a16c064')\"\n",
              "              title=\"Convert this dataframe to an interactive table.\"\n",
              "              style=\"display:none;\">\n",
              "        \n",
              "  <svg xmlns=\"http://www.w3.org/2000/svg\" height=\"24px\"viewBox=\"0 0 24 24\"\n",
              "       width=\"24px\">\n",
              "    <path d=\"M0 0h24v24H0V0z\" fill=\"none\"/>\n",
              "    <path d=\"M18.56 5.44l.94 2.06.94-2.06 2.06-.94-2.06-.94-.94-2.06-.94 2.06-2.06.94zm-11 1L8.5 8.5l.94-2.06 2.06-.94-2.06-.94L8.5 2.5l-.94 2.06-2.06.94zm10 10l.94 2.06.94-2.06 2.06-.94-2.06-.94-.94-2.06-.94 2.06-2.06.94z\"/><path d=\"M17.41 7.96l-1.37-1.37c-.4-.4-.92-.59-1.43-.59-.52 0-1.04.2-1.43.59L10.3 9.45l-7.72 7.72c-.78.78-.78 2.05 0 2.83L4 21.41c.39.39.9.59 1.41.59.51 0 1.02-.2 1.41-.59l7.78-7.78 2.81-2.81c.8-.78.8-2.07 0-2.86zM5.41 20L4 18.59l7.72-7.72 1.47 1.35L5.41 20z\"/>\n",
              "  </svg>\n",
              "      </button>\n",
              "      \n",
              "  <style>\n",
              "    .colab-df-container {\n",
              "      display:flex;\n",
              "      flex-wrap:wrap;\n",
              "      gap: 12px;\n",
              "    }\n",
              "\n",
              "    .colab-df-convert {\n",
              "      background-color: #E8F0FE;\n",
              "      border: none;\n",
              "      border-radius: 50%;\n",
              "      cursor: pointer;\n",
              "      display: none;\n",
              "      fill: #1967D2;\n",
              "      height: 32px;\n",
              "      padding: 0 0 0 0;\n",
              "      width: 32px;\n",
              "    }\n",
              "\n",
              "    .colab-df-convert:hover {\n",
              "      background-color: #E2EBFA;\n",
              "      box-shadow: 0px 1px 2px rgba(60, 64, 67, 0.3), 0px 1px 3px 1px rgba(60, 64, 67, 0.15);\n",
              "      fill: #174EA6;\n",
              "    }\n",
              "\n",
              "    [theme=dark] .colab-df-convert {\n",
              "      background-color: #3B4455;\n",
              "      fill: #D2E3FC;\n",
              "    }\n",
              "\n",
              "    [theme=dark] .colab-df-convert:hover {\n",
              "      background-color: #434B5C;\n",
              "      box-shadow: 0px 1px 3px 1px rgba(0, 0, 0, 0.15);\n",
              "      filter: drop-shadow(0px 1px 2px rgba(0, 0, 0, 0.3));\n",
              "      fill: #FFFFFF;\n",
              "    }\n",
              "  </style>\n",
              "\n",
              "      <script>\n",
              "        const buttonEl =\n",
              "          document.querySelector('#df-779a8994-7716-45be-a371-07699a16c064 button.colab-df-convert');\n",
              "        buttonEl.style.display =\n",
              "          google.colab.kernel.accessAllowed ? 'block' : 'none';\n",
              "\n",
              "        async function convertToInteractive(key) {\n",
              "          const element = document.querySelector('#df-779a8994-7716-45be-a371-07699a16c064');\n",
              "          const dataTable =\n",
              "            await google.colab.kernel.invokeFunction('convertToInteractive',\n",
              "                                                     [key], {});\n",
              "          if (!dataTable) return;\n",
              "\n",
              "          const docLinkHtml = 'Like what you see? Visit the ' +\n",
              "            '<a target=\"_blank\" href=https://colab.research.google.com/notebooks/data_table.ipynb>data table notebook</a>'\n",
              "            + ' to learn more about interactive tables.';\n",
              "          element.innerHTML = '';\n",
              "          dataTable['output_type'] = 'display_data';\n",
              "          await google.colab.output.renderOutput(dataTable, element);\n",
              "          const docLink = document.createElement('div');\n",
              "          docLink.innerHTML = docLinkHtml;\n",
              "          element.appendChild(docLink);\n",
              "        }\n",
              "      </script>\n",
              "    </div>\n",
              "  </div>\n",
              "  "
            ]
          },
          "metadata": {},
          "execution_count": 126
        }
      ]
    },
    {
      "cell_type": "markdown",
      "source": [
        "Как можно видеть из графика зависимости точности классификации от максимальной глубины дерева, при глубине > 5 точность на кросс-валидации начинает падать, точность на тестовых данных еще растет и достигает максимума при глубине, равной 6. Далее эти точности начинают снижаться, соответственно точность на тренировочных данных растет, т.е., начиная с глубины равной 7, модель начинает переобучаться на тренировочных данных. И наилучшим значением максимальной глубины можно выбрать 5 или 6."
      ],
      "metadata": {
        "id": "EZT1A_NYAaOc"
      }
    },
    {
      "cell_type": "markdown",
      "source": [
        "Проверим это рассуждение с помощью функции GridSearchCV, которая автоматически подбирает наилучшие параметры модели."
      ],
      "metadata": {
        "id": "MVFbcuslBrFH"
      }
    },
    {
      "cell_type": "code",
      "source": [
        "parameters = {'criterion':['gini','entropy'],'max_depth': np.arange(1, 21)}"
      ],
      "metadata": {
        "id": "aBLRyWCzBr4Q"
      },
      "execution_count": null,
      "outputs": []
    },
    {
      "cell_type": "code",
      "source": [
        "clf = DecisionTreeClassifier()"
      ],
      "metadata": {
        "id": "TV3w_YmZDPi1"
      },
      "execution_count": null,
      "outputs": []
    },
    {
      "cell_type": "code",
      "source": [
        "grid = GridSearchCV(clf, parameters, cv=5)"
      ],
      "metadata": {
        "id": "U3VF_nbUCuBb"
      },
      "execution_count": null,
      "outputs": []
    },
    {
      "cell_type": "code",
      "source": [
        "grid.fit(X_train, y_train)"
      ],
      "metadata": {
        "colab": {
          "base_uri": "https://localhost:8080/"
        },
        "id": "MAcEyB-WC1T7",
        "outputId": "b265379a-b462-4388-ae08-8766a0696e60"
      },
      "execution_count": null,
      "outputs": [
        {
          "output_type": "execute_result",
          "data": {
            "text/plain": [
              "GridSearchCV(cv=5, estimator=DecisionTreeClassifier(),\n",
              "             param_grid={'criterion': ['gini', 'entropy'],\n",
              "                         'max_depth': array([ 1,  2,  3,  4,  5,  6,  7,  8,  9, 10, 11, 12, 13, 14, 15, 16, 17,\n",
              "       18, 19, 20])})"
            ]
          },
          "metadata": {},
          "execution_count": 42
        }
      ]
    },
    {
      "cell_type": "code",
      "source": [
        "grid.best_params_"
      ],
      "metadata": {
        "colab": {
          "base_uri": "https://localhost:8080/"
        },
        "id": "HjHQVzNjC-Ih",
        "outputId": "f90c75d6-9215-43fc-b190-1b1633644f77"
      },
      "execution_count": null,
      "outputs": [
        {
          "output_type": "execute_result",
          "data": {
            "text/plain": [
              "{'criterion': 'entropy', 'max_depth': 6}"
            ]
          },
          "metadata": {},
          "execution_count": 43
        }
      ]
    },
    {
      "cell_type": "markdown",
      "source": [
        "Определим наилучший классификатор:"
      ],
      "metadata": {
        "id": "5hlPPPNIgECq"
      }
    },
    {
      "cell_type": "code",
      "source": [
        "best_clf_tree = DecisionTreeClassifier(criterion = 'entropy', max_depth = 6)"
      ],
      "metadata": {
        "id": "jK7oOilGfhmr"
      },
      "execution_count": null,
      "outputs": []
    },
    {
      "cell_type": "markdown",
      "source": [
        "Осуществим бэггинг на таких деревьях"
      ],
      "metadata": {
        "id": "FcMSnjnwgLoe"
      }
    },
    {
      "cell_type": "code",
      "source": [
        "bagging = BaggingClassifier(best_clf_tree)"
      ],
      "metadata": {
        "id": "BKnK_MwXgJd5"
      },
      "execution_count": null,
      "outputs": []
    },
    {
      "cell_type": "code",
      "source": [
        "par_bagg = {'n_estimators' : range(1,30)}"
      ],
      "metadata": {
        "id": "-Vgu3cg3gtCJ"
      },
      "execution_count": null,
      "outputs": []
    },
    {
      "cell_type": "code",
      "source": [
        "grid_bagg = GridSearchCV(bagging, par_bagg, cv=5)"
      ],
      "metadata": {
        "id": "a2I-facEgoyH"
      },
      "execution_count": null,
      "outputs": []
    },
    {
      "cell_type": "code",
      "source": [
        "grid_bagg.fit(X_train, y_train)"
      ],
      "metadata": {
        "colab": {
          "base_uri": "https://localhost:8080/"
        },
        "id": "7KUs25t6g8ss",
        "outputId": "f57e5169-a1f1-477e-ab76-6c56b789698d"
      },
      "execution_count": null,
      "outputs": [
        {
          "output_type": "execute_result",
          "data": {
            "text/plain": [
              "GridSearchCV(cv=5,\n",
              "             estimator=BaggingClassifier(base_estimator=DecisionTreeClassifier(criterion='entropy',\n",
              "                                                                               max_depth=6)),\n",
              "             param_grid={'n_estimators': range(1, 30)})"
            ]
          },
          "metadata": {},
          "execution_count": 83
        }
      ]
    },
    {
      "cell_type": "code",
      "source": [
        "grid_bagg.best_params_"
      ],
      "metadata": {
        "colab": {
          "base_uri": "https://localhost:8080/"
        },
        "id": "_6tac9Jsjy2c",
        "outputId": "e19ce938-56a8-40ae-c614-4b59bf6af5b7"
      },
      "execution_count": null,
      "outputs": [
        {
          "output_type": "execute_result",
          "data": {
            "text/plain": [
              "{'n_estimators': 14}"
            ]
          },
          "metadata": {},
          "execution_count": 56
        }
      ]
    },
    {
      "cell_type": "markdown",
      "source": [
        "Таким образом, наилучшей моделью представляется бэггинг на деревьях принятия решений с количеством деревьев - 14, где каждое дерево с максимальной глубиной - 6."
      ],
      "metadata": {
        "id": "0em4Hbv2j6N9"
      }
    },
    {
      "cell_type": "code",
      "source": [
        "best_bagg = BaggingClassifier(best_clf_tree, n_estimators = 14)"
      ],
      "metadata": {
        "id": "lCdws4y9kQiM"
      },
      "execution_count": null,
      "outputs": []
    },
    {
      "cell_type": "code",
      "source": [
        "best_bagg.fit(X_train, y_train)"
      ],
      "metadata": {
        "colab": {
          "base_uri": "https://localhost:8080/"
        },
        "id": "XRD2NgLXkgrB",
        "outputId": "8db20b32-7b1b-4b1c-ba87-2c6a2cf2863b"
      },
      "execution_count": null,
      "outputs": [
        {
          "output_type": "execute_result",
          "data": {
            "text/plain": [
              "BaggingClassifier(base_estimator=DecisionTreeClassifier(criterion='entropy',\n",
              "                                                        max_depth=6),\n",
              "                  n_estimators=14)"
            ]
          },
          "metadata": {},
          "execution_count": 17
        }
      ]
    },
    {
      "cell_type": "markdown",
      "source": [
        "Оценим точность бэггинга на тестовых данных:"
      ],
      "metadata": {
        "id": "QgldvBzlkqCb"
      }
    },
    {
      "cell_type": "code",
      "source": [
        "best_bagg.score(X_test, y_test)"
      ],
      "metadata": {
        "colab": {
          "base_uri": "https://localhost:8080/"
        },
        "id": "IoOXv7FwkoVv",
        "outputId": "487a8ed8-bbff-44b6-8bb1-5fa4d7948f97"
      },
      "execution_count": null,
      "outputs": [
        {
          "output_type": "execute_result",
          "data": {
            "text/plain": [
              "0.9774674115456239"
            ]
          },
          "metadata": {},
          "execution_count": 18
        }
      ]
    },
    {
      "cell_type": "markdown",
      "source": [
        "# Оценка модели и результатов"
      ],
      "metadata": {
        "id": "1DT8jirKhoKo"
      }
    },
    {
      "cell_type": "markdown",
      "source": [
        "Оценим теперь такие метрики как Accuracy, Recall и F1-мера:"
      ],
      "metadata": {
        "id": "alxSJa5Elzc5"
      }
    },
    {
      "cell_type": "code",
      "source": [
        "Y_pred = best_bagg.predict(X_test)"
      ],
      "metadata": {
        "id": "vl9iiVmxn4ZS"
      },
      "execution_count": null,
      "outputs": []
    },
    {
      "cell_type": "code",
      "source": [
        "report = classification_report(y_test, Y_pred, target_names=['Not pulsar stars', 'Pulsar stars'])\n",
        "print(report)"
      ],
      "metadata": {
        "colab": {
          "base_uri": "https://localhost:8080/"
        },
        "id": "xlkUXKQNly6i",
        "outputId": "20c18b30-862f-46f5-b92e-37e3d3495f76"
      },
      "execution_count": null,
      "outputs": [
        {
          "output_type": "stream",
          "name": "stdout",
          "text": [
            "                  precision    recall  f1-score   support\n",
            "\n",
            "Not pulsar stars       0.98      0.99      0.99      4850\n",
            "    Pulsar stars       0.93      0.83      0.88       520\n",
            "\n",
            "        accuracy                           0.98      5370\n",
            "       macro avg       0.95      0.91      0.93      5370\n",
            "    weighted avg       0.98      0.98      0.98      5370\n",
            "\n"
          ]
        }
      ]
    },
    {
      "cell_type": "markdown",
      "source": [
        "Таким образом, получаем, что обученная модель классификатора почти безошибочно определяет, что звезда не является пульсаром, но может допускать ошибки при классификации к классу пульсаров, т.е. может пропускать некоторые положительные примеры (Recall 0.83). **F-мера в данном случае равна 0.88.**"
      ],
      "metadata": {
        "id": "ElqpLYpb9o4t"
      }
    },
    {
      "cell_type": "markdown",
      "source": [
        "Построим матрицу ошибок (Confusion Matrix) в виде:\n",
        "\\begin{pmatrix}\n",
        "   TN & FP \\\\\n",
        "   FN & TP \n",
        "\\end{pmatrix}"
      ],
      "metadata": {
        "id": "Azhzsq4DieRg"
      }
    },
    {
      "cell_type": "code",
      "source": [
        "label_aux = plt.subplot()\n",
        "cm = confusion_matrix(y_test, Y_pred)\n",
        "cm_nn = pd.DataFrame(cm, index = ['Not a Pulsar Star','Pulsar Star'], columns = ['Not a Pulsar Star','Pulsar Star'])\n",
        "sns.heatmap(cm_nn, annot=True, fmt=\"d\", cbar=False)\n",
        "label_aux.set_title(\"Confussion Matrix of Our Model\")\n",
        "label_aux.set_xlabel('Predicted Value');\n",
        "label_aux.set_ylabel('True Value');"
      ],
      "metadata": {
        "colab": {
          "base_uri": "https://localhost:8080/",
          "height": 295
        },
        "id": "E2Un2lLbJsPA",
        "outputId": "bd6d03f5-a29e-439d-950e-3052f5882540"
      },
      "execution_count": null,
      "outputs": [
        {
          "output_type": "display_data",
          "data": {
            "text/plain": [
              "<Figure size 432x288 with 1 Axes>"
            ],
            "image/png": "[encoded data removed]"
          },
          "metadata": {
            "needs_background": "light"
          }
        }
      ]
    },
    {
      "cell_type": "markdown",
      "source": [
        "Также для оценки модели построим ROC-кривую и вычислим площадь под кривой AUC:"
      ],
      "metadata": {
        "id": "GHzSCddwnS1r"
      }
    },
    {
      "cell_type": "code",
      "source": [
        "RocCurveDisplay.from_estimator(best_bagg, X_test, y_test)\n",
        "plt.xlim([0.0, 1.0])\n",
        "plt.ylim([0.0, 1.05])\n",
        "plt.xlabel('False Positive Rate')\n",
        "plt.ylabel('True Positive Rate')\n",
        "plt.title('Receiver operating characteristic example')\n",
        "plt.legend(loc=\"lower right\")\n",
        "plt.plot([0, 1], [0, 1], color='navy', lw=2, linestyle='--')\n",
        "plt.show()"
      ],
      "metadata": {
        "colab": {
          "base_uri": "https://localhost:8080/",
          "height": 295
        },
        "id": "pYGxys0Fm9PN",
        "outputId": "e7bbb9e3-f870-4223-cc9e-e338a915f3f2"
      },
      "execution_count": null,
      "outputs": [
        {
          "output_type": "display_data",
          "data": {
            "text/plain": [
              "<Figure size 432x288 with 1 Axes>"
            ],
            "image/png": "[encoded data removed]"
          },
          "metadata": {
            "needs_background": "light"
          }
        }
      ]
    },
    {
      "cell_type": "code",
      "source": [
        "predictions = best_bagg.predict_proba(X_test)"
      ],
      "metadata": {
        "id": "aDtFAYOU8q9X"
      },
      "execution_count": null,
      "outputs": []
    },
    {
      "cell_type": "markdown",
      "source": [
        "Таким образом, получаем основные х-ки нашей модели - бэггинга деревьев принятия решений с количеством деревьев - 14, и каждое дерево с максимальной глубиной - 6:"
      ],
      "metadata": {
        "id": "MNLdGrrO2W2b"
      }
    },
    {
      "cell_type": "code",
      "source": [
        "pttbl = PrettyTable()\n",
        "pttbl.field_names = [\"Accuracy\", \"Recall\", \"F1_Score\", \"AUC\"]\n",
        "pttbl.add_row([accuracy_score(y_test, Y_pred ),recall_score(y_test, Y_pred), \n",
        "              f1_score(y_test, Y_pred), roc_auc_score(y_test, predictions[:,1])])\n",
        "print(pttbl)"
      ],
      "metadata": {
        "colab": {
          "base_uri": "https://localhost:8080/"
        },
        "id": "58ErOrvH34dF",
        "outputId": "7e48e6fc-a557-4055-8a43-2a311a19deb1"
      },
      "execution_count": null,
      "outputs": [
        {
          "output_type": "stream",
          "name": "stdout",
          "text": [
            "+--------------------+--------------------+-------------------+--------------------+\n",
            "|      Accuracy      |       Recall       |      F1_Score     |        AUC         |\n",
            "+--------------------+--------------------+-------------------+--------------------+\n",
            "| 0.9774674115456239 | 0.8346153846153846 | 0.877654196157735 | 0.9740880253766853 |\n",
            "+--------------------+--------------------+-------------------+--------------------+\n"
          ]
        }
      ]
    },
    {
      "cell_type": "markdown",
      "source": [
        "Как можно видеть, основные метрики дают нам основание полагать о хорошем качестве выбранной нами модели. Ее вполне можно использовать для последующей классификации новых наблюдаемых астрофизических объектов."
      ],
      "metadata": {
        "id": "rBiS3GDM9gZG"
      }
    }
  ]
}